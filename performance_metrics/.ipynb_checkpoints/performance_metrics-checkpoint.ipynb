{
 "cells": [
  {
   "cell_type": "code",
   "execution_count": 210,
   "metadata": {},
   "outputs": [],
   "source": [
    "import pandas as pd\n",
    "import numpy as np\n",
    "from sklearn.naive_bayes import GaussianNB\n",
    "from sklearn.tree import DecisionTreeClassifier\n",
    "from sklearn.datasets import make_classification\n",
    "from sklearn.metrics import classification_report\n",
    "from sklearn.model_selection import train_test_split\n",
    "\n"
   ]
  },
  {
   "cell_type": "code",
   "execution_count": 211,
   "metadata": {},
   "outputs": [],
   "source": [
    "#### make_classification notes:\n",
    "# n_samples : default=100\n",
    "# n_features : default=20\n",
    "\n",
    "### n_classes * n_clusters_per_class must be smaller or equal 2 ** n_informative\n",
    "# n_informative : default=2\n",
    "# n_classes : default=2\n",
    "# n_clusters_per_class : default=2\n",
    "\n",
    "# n_redundant : default=2\n",
    "# n_repeated : default=0\n",
    "\n",
    "# A higher class_sep makes the classification task easier\n",
    "# class_sep : default=1.0\n",
    "\n",
    "\n",
    "features, labels = make_classification(n_samples=1000, n_classes=3, n_informative=35\n",
    "                                       , n_features=40, class_sep=2.0)"
   ]
  },
  {
   "cell_type": "code",
   "execution_count": 212,
   "metadata": {},
   "outputs": [],
   "source": [
    "# test_size default is 25% of given list\n",
    "\n",
    "features_train, features_test, labels_train, labels_test = train_test_split(features, labels)\n",
    "\n"
   ]
  },
  {
   "cell_type": "code",
   "execution_count": 213,
   "metadata": {},
   "outputs": [],
   "source": [
    "dtc = DecisionTreeClassifier()\n",
    "dtc = dtc.fit(features_train, labels_train)\n",
    "\n",
    "nbc = GaussianNB()\n",
    "nbc.fit(features_train, labels_train)\n",
    "\n",
    "\n",
    "dtc_prediction = dtc.predict(features_test)\n",
    "nbc_prediction = nbc.predict(features_test)"
   ]
  },
  {
   "cell_type": "code",
   "execution_count": 214,
   "metadata": {},
   "outputs": [
    {
     "name": "stdout",
     "output_type": "stream",
     "text": [
      "Decision Tree\n",
      "             precision    recall  f1-score   support\n",
      "\n",
      "          0       0.73      0.78      0.76        92\n",
      "          1       0.76      0.68      0.72        87\n",
      "          2       0.64      0.66      0.65        71\n",
      "\n",
      "avg / total       0.71      0.71      0.71       250\n",
      "\n",
      "\n",
      "\n",
      "Naive bayes\n",
      "             precision    recall  f1-score   support\n",
      "\n",
      "          0       0.92      0.89      0.91        92\n",
      "          1       0.85      0.91      0.88        87\n",
      "          2       0.85      0.82      0.83        71\n",
      "\n",
      "avg / total       0.88      0.88      0.88       250\n",
      "\n"
     ]
    }
   ],
   "source": [
    "print('Decision Tree')\n",
    "print(classification_report(labels_test, dtc_prediction))\n",
    "\n",
    "print('\\n\\nNaive bayes')\n",
    "print(classification_report(labels_test, nbc_prediction))"
   ]
  }
 ],
 "metadata": {
  "kernelspec": {
   "display_name": "Python 3",
   "language": "python",
   "name": "python3"
  },
  "language_info": {
   "codemirror_mode": {
    "name": "ipython",
    "version": 3
   },
   "file_extension": ".py",
   "mimetype": "text/x-python",
   "name": "python",
   "nbconvert_exporter": "python",
   "pygments_lexer": "ipython3",
   "version": "3.6.4"
  },
  "varInspector": {
   "cols": {
    "lenName": 16,
    "lenType": 16,
    "lenVar": 40
   },
   "kernels_config": {
    "python": {
     "delete_cmd_postfix": "",
     "delete_cmd_prefix": "del ",
     "library": "var_list.py",
     "varRefreshCmd": "print(var_dic_list())"
    },
    "r": {
     "delete_cmd_postfix": ") ",
     "delete_cmd_prefix": "rm(",
     "library": "var_list.r",
     "varRefreshCmd": "cat(var_dic_list()) "
    }
   },
   "types_to_exclude": [
    "module",
    "function",
    "builtin_function_or_method",
    "instance",
    "_Feature"
   ],
   "window_display": false
  }
 },
 "nbformat": 4,
 "nbformat_minor": 2
}
