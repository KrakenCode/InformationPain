{
 "cells": [
  {
   "cell_type": "code",
   "execution_count": 1,
   "metadata": {},
   "outputs": [],
   "source": [
    "import numpy as np\n",
    "import pandas as pd\n",
    "from tqdm import tqdm\n",
    "from sklearn.model_selection import KFold\n",
    "from sklearn.metrics import classification_report, accuracy_score\n",
    "\n",
    "from ID3 import ID3\n",
    "from Neural_Network import Network\n",
    "from Naive_Bayes import NaiveBayesClassifier"
   ]
  },
  {
   "cell_type": "code",
   "execution_count": 2,
   "metadata": {},
   "outputs": [],
   "source": [
    "def convert_to_one_hot(matrix):\n",
    "    one_hot = None\n",
    "    df = pd.DataFrame(matrix)\n",
    "    \n",
    "    for col in df:\n",
    "        temp = pd.get_dummies(df[col]).as_matrix()\n",
    "        if one_hot is None:\n",
    "            one_hot = temp\n",
    "        one_hot = np.concatenate((one_hot,temp),axis=1)\n",
    "\n",
    "    return one_hot"
   ]
  },
  {
   "cell_type": "code",
   "execution_count": 3,
   "metadata": {},
   "outputs": [],
   "source": [
    "df = pd.read_csv('agaricus-lepiota.data.csv', header=None)\n",
    "\n",
    "labels = df.pop(0).values\n",
    "features = df.values\n",
    "\n",
    "features_one_hot = convert_to_one_hot(features)\n",
    "lookupTable, indexed_labels = np.unique(labels, return_inverse=True)"
   ]
  },
  {
   "cell_type": "code",
   "execution_count": 4,
   "metadata": {},
   "outputs": [],
   "source": [
    "id3 = ID3()\n",
    "naive_bayes = NaiveBayesClassifier()\n",
    "\n",
    "# input layer is 123 neurons from one hot encoding the 22 mushroom features\n",
    "# for now when we use relu our accuracy is very bad,\n",
    "# we believe something is dying somewhere. We couldn't find the bug after we refactored our NN's code\n",
    "neuralnet = Network(layer_structures=[123, 15, 2], iterations=500)\n",
    "\n",
    "labels_true = []\n",
    "id3_predicted = []\n",
    "naive_bayes_predicted = []\n",
    "neuralnet_predicted = []"
   ]
  },
  {
   "cell_type": "code",
   "execution_count": 5,
   "metadata": {},
   "outputs": [
    {
     "name": "stderr",
     "output_type": "stream",
     "text": [
      "100%|██████████| 10/10 [02:25<00:00, 14.67s/it]\n"
     ]
    }
   ],
   "source": [
    "bar = tqdm(total=10)\n",
    "kf = KFold(n_splits=10, shuffle=True)\n",
    "\n",
    "for train_index, test_index in kf.split(features):\n",
    "    features_train, features_test = features[train_index], features[test_index]\n",
    "    labels_train, labels_test = labels[train_index], labels[test_index]\n",
    "    features_train_one_hot, features_test_one_hot  = features_one_hot[train_index], features_one_hot[test_index]\n",
    "    \n",
    "    \n",
    "    # save all the of test labels\n",
    "    labels_true.extend(labels_test)\n",
    "    \n",
    "    # convert labels to one hots for the neural network\n",
    "    labels_train_one_hot = pd.get_dummies(labels_train).as_matrix()  \n",
    "    \n",
    "    # Train models\n",
    "    # note that fit() deletes prior training and starts fresh\n",
    "    id3.fit(features_train, labels_train)\n",
    "    naive_bayes.fit(features_train, labels_train)\n",
    "    neuralnet.fit(features_train_one_hot, labels_train_one_hot)\n",
    "        \n",
    "        \n",
    "    # get predictions\n",
    "    id3_predicted.extend(id3.predict(features_test))\n",
    "    naive_bayes_predicted.extend(naive_bayes.predict(features_test))\n",
    "    neuralnet_predicted.extend(neuralnet.predict(features_test_one_hot, classification=True))\n",
    "    \n",
    "    bar.update()\n",
    "\n",
    "\n",
    "\n",
    "bar.close() "
   ]
  },
  {
   "cell_type": "code",
   "execution_count": 6,
   "metadata": {},
   "outputs": [
    {
     "name": "stdout",
     "output_type": "stream",
     "text": [
      "\n",
      "\n",
      "Our ID3 Decision Tree:\n",
      "Accuracy: 1.00\n",
      "             precision    recall  f1-score   support\n",
      "\n",
      "          e       1.00      1.00      1.00      4208\n",
      "          p       1.00      1.00      1.00      3916\n",
      "\n",
      "avg / total       1.00      1.00      1.00      8124\n",
      "\n",
      "\n",
      "\n",
      "Our Naive Bayes:\n",
      "Accuracy: 0.95\n",
      "             precision    recall  f1-score   support\n",
      "\n",
      "          e       0.92      1.00      0.96      4208\n",
      "          p       0.99      0.91      0.95      3916\n",
      "\n",
      "avg / total       0.96      0.95      0.95      8124\n",
      "\n",
      "\n",
      "\n",
      "Our Neural Network:\n",
      "Accuracy: 1.00\n",
      "             precision    recall  f1-score   support\n",
      "\n",
      "          e       1.00      1.00      1.00      4208\n",
      "          p       1.00      1.00      1.00      3916\n",
      "\n",
      "avg / total       1.00      1.00      1.00      8124\n",
      "\n"
     ]
    }
   ],
   "source": [
    "for i in range(len(neuralnet_predicted)):\n",
    "    neuralnet_predicted[i] = lookupTable[neuralnet_predicted[i]]\n",
    "\n",
    "print('\\n\\nOur ID3 Decision Tree:')\n",
    "print('Accuracy: {:.2f}'.format(accuracy_score(labels_true, id3_predicted)))\n",
    "print(classification_report(labels_true, id3_predicted))\n",
    "\n",
    "print('\\n\\nOur Naive Bayes:')\n",
    "print('Accuracy: {:.2f}'.format(accuracy_score(labels_true, naive_bayes_predicted)))\n",
    "print(classification_report(labels_true, naive_bayes_predicted))\n",
    "\n",
    "print('\\n\\nOur Neural Network:')\n",
    "print('Accuracy: {:.2f}'.format(accuracy_score(labels_true, neuralnet_predicted)))\n",
    "print(classification_report(labels_true, neuralnet_predicted))"
   ]
  }
 ],
 "metadata": {
  "kernelspec": {
   "display_name": "Python 3",
   "language": "python",
   "name": "python3"
  },
  "language_info": {
   "codemirror_mode": {
    "name": "ipython",
    "version": 3
   },
   "file_extension": ".py",
   "mimetype": "text/x-python",
   "name": "python",
   "nbconvert_exporter": "python",
   "pygments_lexer": "ipython3",
   "version": "3.6.4"
  },
  "varInspector": {
   "cols": {
    "lenName": 16,
    "lenType": 16,
    "lenVar": 40
   },
   "kernels_config": {
    "python": {
     "delete_cmd_postfix": "",
     "delete_cmd_prefix": "del ",
     "library": "var_list.py",
     "varRefreshCmd": "print(var_dic_list())"
    },
    "r": {
     "delete_cmd_postfix": ") ",
     "delete_cmd_prefix": "rm(",
     "library": "var_list.r",
     "varRefreshCmd": "cat(var_dic_list()) "
    }
   },
   "types_to_exclude": [
    "module",
    "function",
    "builtin_function_or_method",
    "instance",
    "_Feature"
   ],
   "window_display": false
  }
 },
 "nbformat": 4,
 "nbformat_minor": 2
}
