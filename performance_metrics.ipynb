{
 "cells": [
  {
   "cell_type": "code",
   "execution_count": 1,
   "metadata": {},
   "outputs": [],
   "source": [
    "import pandas as pd\n",
    "import numpy as np\n",
    "from sklearn.naive_bayes import GaussianNB\n",
    "from sklearn.tree import DecisionTreeClassifier\n",
    "from sklearn.neural_network import MLPClassifier\n",
    "from sklearn.datasets import make_classification, load_wine\n",
    "from sklearn.metrics import classification_report, accuracy_score\n",
    "from sklearn.model_selection import train_test_split\n",
    "\n",
    "from ID3 import ID3\n",
    "from Neural_Network import Network, relu\n",
    "from Naive_Bayes import NaiveBayesClassifier"
   ]
  },
  {
   "cell_type": "code",
   "execution_count": 2,
   "metadata": {},
   "outputs": [],
   "source": [
    "#### make_classification notes:\n",
    "# n_samples : default=100\n",
    "# n_features : default=20\n",
    "\n",
    "### n_classes * n_clusters_per_class must be smaller or equal 2 ** n_informative\n",
    "# n_informative : default=2\n",
    "# n_classes : default=2\n",
    "# n_clusters_per_class : default=2\n",
    "\n",
    "# n_redundant : default=2\n",
    "# n_repeated : default=0\n",
    "\n",
    "# A higher class_sep makes the classification task easier\n",
    "# class_sep : default=1.0\n",
    "\n",
    "\n",
    "features, labels = make_classification(n_samples=3000, n_classes=3, n_informative=20,\n",
    "                                       n_features=30, class_sep=1.5)\n",
    "\n"
   ]
  },
  {
   "cell_type": "code",
   "execution_count": 3,
   "metadata": {},
   "outputs": [],
   "source": [
    "# test_size default is 25% of given list\n",
    "\n",
    "# features_train, features_test, labels_train, labels_test = train_test_split(features, labels)\n",
    "\n"
   ]
  },
  {
   "cell_type": "code",
   "execution_count": 4,
   "metadata": {},
   "outputs": [],
   "source": [
    "\n",
    "# # sklearn's decision tree\n",
    "# dtc = DecisionTreeClassifier()\n",
    "# dtc = dtc.fit(features_train, labels_train)\n",
    "# dtc_prediction = dtc.predict(features_test)\n",
    "# print('skearn.tree.DecisionTreeClassifier:')\n",
    "# print(classification_report(labels_test, dtc_prediction))\n",
    "\n",
    "# # our ID3 decision tree\n",
    "# id3 = ID3()\n",
    "# id3.fit(features_train, labels_train)\n",
    "# predictions = id3.predict(features_test)\n",
    "# print('\\n\\nOur ID3 Decision Tree:')\n",
    "# print(classification_report(labels_test, predictions))\n"
   ]
  },
  {
   "cell_type": "code",
   "execution_count": 5,
   "metadata": {},
   "outputs": [],
   "source": [
    "# # sklearns naive bayes\n",
    "# gausNB = GaussianNB()\n",
    "# gausNB.fit(features_train, labels_train)\n",
    "# gausNB_prediction = gausNB.predict(features_test)\n",
    "# print('sklearn.naive_bayes.GaussianNB')\n",
    "# print(classification_report(labels_test, gausNB_prediction))\n",
    "\n",
    "\n",
    "# # nbc = NaiveBayesClassifier()\n",
    "# # nbc.fit(features_train, labels_train)\n",
    "# # nbc_prediction = nbc.predict(features_test)\n",
    "# # print(classification_report(labels_test, nbc_prediction))\n"
   ]
  },
  {
   "cell_type": "code",
   "execution_count": 6,
   "metadata": {},
   "outputs": [],
   "source": [
    "# labels_train_one_hot = pd.get_dummies(labels_train).as_matrix()\n",
    "\n",
    "# neuralnet = Network(layer_structures=[40, 10, 10, 3], activation_function=relu) \n",
    "# neuralnet.fit(features_train, labels_train_one_hot, iterations=5000)\n",
    "# neuralnet_prediction = neuralnet.predict(features_test, classification=True)\n",
    "\n",
    "# print(classification_report(labels_test, netbc_prediction))"
   ]
  },
  {
   "cell_type": "code",
   "execution_count": 7,
   "metadata": {},
   "outputs": [],
   "source": [
    "from sklearn.model_selection import KFold\n",
    "from tqdm import tqdm_notebook\n",
    "\n",
    "kf = KFold(n_splits=10, shuffle=True)\n",
    "\n",
    "\n",
    "sk_dtc = DecisionTreeClassifier(criterion='entropy')\n",
    "sk_gausNB = GaussianNB()\n",
    "sk_mlpc = MLPClassifier(activation='relu'\n",
    "                        , hidden_layer_sizes=(15, 15)\n",
    "                        , learning_rate='constant'\n",
    "                        , learning_rate_init=0.001\n",
    "                        , max_iter=5000)\n",
    "\n",
    "id3 = ID3()\n",
    "naive_bayes = NaiveBayesClassifier()\n",
    "# neuralnet gets created/recreated in the loop\n",
    "\n",
    "\n",
    "\n",
    "labels_true = []\n",
    "\n",
    "sk_dtc_predicted = []\n",
    "sk_gausNB_predicted = []\n",
    "sk_mlpc_predicted = []\n",
    "\n",
    "id3_predicted = []\n",
    "naive_bayes_predicted = []\n",
    "neuralnet_predicted = []\n"
   ]
  },
  {
   "cell_type": "code",
   "execution_count": 8,
   "metadata": {},
   "outputs": [
    {
     "data": {
      "application/vnd.jupyter.widget-view+json": {
       "model_id": "a642e00cc6cb486b82d601c235978507",
       "version_major": 2,
       "version_minor": 0
      },
      "text/html": [
       "<p>Failed to display Jupyter Widget of type <code>HBox</code>.</p>\n",
       "<p>\n",
       "  If you're reading this message in the Jupyter Notebook or JupyterLab Notebook, it may mean\n",
       "  that the widgets JavaScript is still loading. If this message persists, it\n",
       "  likely means that the widgets JavaScript library is either not installed or\n",
       "  not enabled. See the <a href=\"https://ipywidgets.readthedocs.io/en/stable/user_install.html\">Jupyter\n",
       "  Widgets Documentation</a> for setup instructions.\n",
       "</p>\n",
       "<p>\n",
       "  If you're reading this message in another frontend (for example, a static\n",
       "  rendering on GitHub or <a href=\"https://nbviewer.jupyter.org/\">NBViewer</a>),\n",
       "  it may mean that your frontend doesn't currently support widgets.\n",
       "</p>\n"
      ],
      "text/plain": [
       "HBox(children=(IntProgress(value=0, max=10), HTML(value='')))"
      ]
     },
     "metadata": {},
     "output_type": "display_data"
    },
    {
     "name": "stdout",
     "output_type": "stream",
     "text": [
      "\n"
     ]
    }
   ],
   "source": [
    "# train with numerical data\n",
    "\n",
    "bar = tqdm_notebook(total=10)\n",
    "\n",
    "for train_index, test_index in kf.split(features):\n",
    "    features_train, features_test = features[train_index], features[test_index]\n",
    "    labels_train, labels_test = labels[train_index], labels[test_index]\n",
    "    \n",
    "    # save all the of test labels\n",
    "    labels_true.extend(labels_test)\n",
    "    \n",
    "    # convert labels to one hots for the neural network\n",
    "    labels_train_one_hot = pd.get_dummies(labels_train).as_matrix()\n",
    "    \n",
    "    # recreate Neural Network, for now it doesn't reset its weight, thus make a new one\n",
    "    neuralnet = Network(layer_structures=[30, 15, 15, 3], activation_function=relu)\n",
    "    \n",
    "    # train models\n",
    "    sk_dtc.fit(features_train, labels_train)\n",
    "    sk_gausNB.fit(features_train, labels_train)\n",
    "    sk_mlpc.fit(features_train, labels_train)\n",
    "    \n",
    "    id3.fit(features_train, labels_train)\n",
    "    naive_bayes.fit(features_train, labels_train)\n",
    "    neuralnet.fit(features_train, labels_train_one_hot, iterations=5000)\n",
    "    \n",
    "        \n",
    "    # get predictions\n",
    "    sk_dtc_predicted.extend(sk_dtc.predict(features_test))\n",
    "    sk_gausNB_predicted.extend(sk_gausNB.predict(features_test))\n",
    "    sk_mlpc_predicted.extend(sk_mlpc.predict(features_test))\n",
    "    \n",
    "    id3_predicted.extend(id3.predict(features_test))\n",
    "    naive_bayes_predicted.extend(naive_bayes.predict(features_test))\n",
    "    neuralnet_predicted.extend(neuralnet.predict(features_test, classification=True))\n",
    "    \n",
    "    \n",
    "    bar.update()\n",
    "\n",
    "\n",
    "\n",
    "bar.close()"
   ]
  },
  {
   "cell_type": "code",
   "execution_count": 13,
   "metadata": {},
   "outputs": [
    {
     "name": "stdout",
     "output_type": "stream",
     "text": [
      "sklearn.tree.DecisionTreeClassifier:\n",
      "Accuracy: 0.77\n",
      "             precision    recall  f1-score   support\n",
      "\n",
      "          0       0.79      0.79      0.79      1000\n",
      "          1       0.77      0.78      0.78      1000\n",
      "          2       0.76      0.75      0.76      1000\n",
      "\n",
      "avg / total       0.77      0.77      0.77      3000\n",
      "\n",
      "\n",
      "\n",
      "sklearn.naive_bayes.GaussianNB:\n",
      "Accuracy: 0.82\n",
      "             precision    recall  f1-score   support\n",
      "\n",
      "          0       0.85      0.82      0.84      1000\n",
      "          1       0.82      0.85      0.84      1000\n",
      "          2       0.79      0.80      0.80      1000\n",
      "\n",
      "avg / total       0.82      0.82      0.82      3000\n",
      "\n",
      "\n",
      "\n",
      "sklearn.neural_network.MLPClassifier:\n",
      "Accuracy: 0.95\n",
      "             precision    recall  f1-score   support\n",
      "\n",
      "          0       0.95      0.95      0.95      1000\n",
      "          1       0.95      0.95      0.95      1000\n",
      "          2       0.94      0.94      0.94      1000\n",
      "\n",
      "avg / total       0.95      0.95      0.95      3000\n",
      "\n",
      "\n",
      "\n",
      "Our ID3 Decision Tree:\n",
      "Accuracy: 0.78\n",
      "             precision    recall  f1-score   support\n",
      "\n",
      "          0       0.80      0.79      0.80      1000\n",
      "          1       0.77      0.80      0.78      1000\n",
      "          2       0.77      0.75      0.76      1000\n",
      "\n",
      "avg / total       0.78      0.78      0.78      3000\n",
      "\n",
      "\n",
      "\n",
      "Our Naive Bayes:\n",
      "Accuracy: 0.79\n",
      "             precision    recall  f1-score   support\n",
      "\n",
      "          0       0.92      0.69      0.79      1000\n",
      "          1       0.80      0.84      0.82      1000\n",
      "          2       0.71      0.85      0.77      1000\n",
      "\n",
      "avg / total       0.81      0.79      0.79      3000\n",
      "\n",
      "\n",
      "\n",
      "Our Neural Network:\n",
      "Accuracy: 0.85\n",
      "             precision    recall  f1-score   support\n",
      "\n",
      "          0       0.85      0.87      0.86      1000\n",
      "          1       0.84      0.86      0.85      1000\n",
      "          2       0.86      0.82      0.84      1000\n",
      "\n",
      "avg / total       0.85      0.85      0.85      3000\n",
      "\n"
     ]
    }
   ],
   "source": [
    "print('sklearn.tree.DecisionTreeClassifier:')\n",
    "print('Accuracy: {:.2f}'.format(accuracy_score(labels_true, sk_dtc_predicted)))\n",
    "print(classification_report(labels_true, sk_dtc_predicted))\n",
    "\n",
    "print('\\n\\nsklearn.naive_bayes.GaussianNB:')\n",
    "print('Accuracy: {:.2f}'.format(accuracy_score(labels_true, sk_gausNB_predicted)))\n",
    "print(classification_report(labels_true, sk_gausNB_predicted))\n",
    "\n",
    "print('\\n\\nsklearn.neural_network.MLPClassifier:')\n",
    "print('Accuracy: {:.2f}'.format(accuracy_score(labels_true, sk_mlpc_predicted)))\n",
    "print(classification_report(labels_true, sk_mlpc_predicted))\n",
    "\n",
    "\n",
    "print('\\n\\nOur ID3 Decision Tree:')\n",
    "print('Accuracy: {:.2f}'.format(accuracy_score(labels_true, id3_predicted)))\n",
    "print(classification_report(labels_true, id3_predicted))\n",
    "\n",
    "print('\\n\\nOur Naive Bayes:')\n",
    "print('Accuracy: {:.2f}'.format(accuracy_score(labels_true, naive_bayes_predicted)))\n",
    "print(classification_report(labels_true, naive_bayes_predicted))\n",
    "\n",
    "print('\\n\\nOur Neural Network:')\n",
    "print('Accuracy: {:.2f}'.format(accuracy_score(labels_true, neuralnet_predicted)))\n",
    "print(classification_report(labels_true, neuralnet_predicted))"
   ]
  }
 ],
 "metadata": {
  "kernelspec": {
   "display_name": "Python 3",
   "language": "python",
   "name": "python3"
  },
  "language_info": {
   "codemirror_mode": {
    "name": "ipython",
    "version": 3
   },
   "file_extension": ".py",
   "mimetype": "text/x-python",
   "name": "python",
   "nbconvert_exporter": "python",
   "pygments_lexer": "ipython3",
   "version": "3.6.4"
  },
  "varInspector": {
   "cols": {
    "lenName": 16,
    "lenType": 16,
    "lenVar": 40
   },
   "kernels_config": {
    "python": {
     "delete_cmd_postfix": "",
     "delete_cmd_prefix": "del ",
     "library": "var_list.py",
     "varRefreshCmd": "print(var_dic_list())"
    },
    "r": {
     "delete_cmd_postfix": ") ",
     "delete_cmd_prefix": "rm(",
     "library": "var_list.r",
     "varRefreshCmd": "cat(var_dic_list()) "
    }
   },
   "types_to_exclude": [
    "module",
    "function",
    "builtin_function_or_method",
    "instance",
    "_Feature"
   ],
   "window_display": false
  }
 },
 "nbformat": 4,
 "nbformat_minor": 2
}
